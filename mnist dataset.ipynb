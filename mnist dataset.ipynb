{
 "cells": [
  {
   "cell_type": "code",
   "execution_count": 2,
   "metadata": {},
   "outputs": [],
   "source": [
    "#keras and tensorflow both are deep learning library\n",
    "#tensorflow act as backened of keras for low-level API computation\n",
    "#Kears is for high level computation(steps of keras: models,compilation,evaluation)\n",
    "\n",
    "\n",
    "\n",
    "import tensorflow as tsf\n",
    "\n",
    "#keras have two types models:(1)Sequential (2)Functional \n",
    "from tensorflow.keras import models\n",
    "\n",
    "#in this dataset we apply convolutional neural network so we need conv layers\n",
    "from tensorflow.keras import layers\n",
    "\n",
    "#we import to_categorical because it convert our labels into categorical(0,1)\n",
    "from tensorflow.keras.utils import to_categorical\n",
    "\n",
    "#import dataset because it is already present in keras library\n",
    "from tensorflow.keras.datasets import mnist\n",
    "\n",
    "import numpy as np\n",
    "\n",
    "#For data visualization\n",
    "import matplotlib.pyplot as plt\n"
   ]
  },
  {
   "cell_type": "code",
   "execution_count": 3,
   "metadata": {},
   "outputs": [],
   "source": [
    "#train_images(train inputs)    #test_images(test inputs)\n",
    "#train_labels(train outputs)   #test_labels(test outputs)\n",
    "(train_images,train_labels),(test_images,test_labels)=mnist.load_data()"
   ]
  },
  {
   "cell_type": "code",
   "execution_count": 4,
   "metadata": {},
   "outputs": [
    {
     "data": {
      "text/plain": [
       "<matplotlib.image.AxesImage at 0x1050ed30>"
      ]
     },
     "execution_count": 4,
     "metadata": {},
     "output_type": "execute_result"
    },
    {
     "data": {
      "image/png": "[encoded data removed]",
      "text/plain": [
       "<Figure size 432x288 with 1 Axes>"
      ]
     },
     "metadata": {
      "needs_background": "light"
     },
     "output_type": "display_data"
    }
   ],
   "source": [
    "plt.imshow(train_images[7])"
   ]
  },
  {
   "cell_type": "code",
   "execution_count": 5,
   "metadata": {},
   "outputs": [
    {
     "name": "stdout",
     "output_type": "stream",
     "text": [
      "train images shape: (60000, 28, 28)\n",
      "train labels shape: (60000,)\n",
      "test images shape: (10000, 28, 28)\n",
      "test labels shape: (10000,)\n"
     ]
    }
   ],
   "source": [
    "#(60000,28,28) 60000=total train input images, 28,28(pixels of images)\n",
    "\n",
    "print(f\"train images shape: {train_images.shape}\")\n",
    "print(f\"train labels shape: {train_labels.shape}\")\n",
    "print(f\"test images shape: {test_images.shape}\")\n",
    "print(f\"test labels shape: {test_labels.shape}\")"
   ]
  },
  {
   "cell_type": "code",
   "execution_count": 6,
   "metadata": {},
   "outputs": [],
   "source": [
    "train_labels = to_categorical(train_labels)\n",
    "test_labels = to_categorical(test_labels)"
   ]
  },
  {
   "cell_type": "code",
   "execution_count": 7,
   "metadata": {},
   "outputs": [
    {
     "data": {
      "text/plain": [
       "array([0., 0., 0., 1., 0., 0., 0., 0., 0., 0.], dtype=float32)"
      ]
     },
     "execution_count": 7,
     "metadata": {},
     "output_type": "execute_result"
    }
   ],
   "source": [
    "#it shows that at position 7, (3) present\n",
    "train_labels[7]"
   ]
  },
  {
   "cell_type": "code",
   "execution_count": 8,
   "metadata": {},
   "outputs": [
    {
     "name": "stdout",
     "output_type": "stream",
     "text": [
      "WARNING:tensorflow:From C:\\ProgramData\\Anaconda3\\lib\\site-packages\\tensorflow\\python\\ops\\init_ops.py:1251: calling VarianceScaling.__init__ (from tensorflow.python.ops.init_ops) with dtype is deprecated and will be removed in a future version.\n",
      "Instructions for updating:\n",
      "Call initializer instance with the dtype argument instead of passing it to the constructor\n"
     ]
    }
   ],
   "source": [
    "#instantiate model\n",
    "model = models.Sequential()\n",
    "\n",
    "#adding 1st convolution layer\n",
    "#32= 32 filters/kernals  (3,3)=kernal/filter shape  \n",
    "model.add(layers.Conv2D(32, (3,3),activation=\"relu\",input_shape=(28,28,1)))\n",
    "#adding 1st maxpooling\n",
    "model.add(layers.MaxPooling2D((2,2)))\n",
    "\n",
    "#adding 2nd convolution layer\n",
    "model.add(layers.Conv2D(64,(3,3),activation=\"relu\",padding=\"same\"))\n",
    "#adding 2nd maxpooling\n",
    "model.add(layers.MaxPooling2D((2,2)))\n",
    "\n",
    "#adding 3rd convolution layer\n",
    "model.add(layers.Conv2D(32,(3,3),activation='relu'))\n",
    "\n",
    "#flatting data into 1D tensor beacuse dense layer accepts data in 1Dtensor\n",
    "model.add(layers.Flatten())\n",
    "\n",
    "#adding Dense layer\n",
    "model.add(layers.Dense(64,activation='relu'))\n",
    "\n",
    "#output layer\n",
    "#softmax activation function used beacuse multiclass output\n",
    "model.add(layers.Dense(10,activation='softmax'))"
   ]
  },
  {
   "cell_type": "code",
   "execution_count": 9,
   "metadata": {},
   "outputs": [
    {
     "name": "stdout",
     "output_type": "stream",
     "text": [
      "Model: \"sequential\"\n",
      "_________________________________________________________________\n",
      "Layer (type)                 Output Shape              Param #   \n",
      "=================================================================\n",
      "conv2d (Conv2D)              (None, 26, 26, 32)        320       \n",
      "_________________________________________________________________\n",
      "max_pooling2d (MaxPooling2D) (None, 13, 13, 32)        0         \n",
      "_________________________________________________________________\n",
      "conv2d_1 (Conv2D)            (None, 13, 13, 64)        18496     \n",
      "_________________________________________________________________\n",
      "max_pooling2d_1 (MaxPooling2 (None, 6, 6, 64)          0         \n",
      "_________________________________________________________________\n",
      "conv2d_2 (Conv2D)            (None, 4, 4, 32)          18464     \n",
      "_________________________________________________________________\n",
      "flatten (Flatten)            (None, 512)               0         \n",
      "_________________________________________________________________\n",
      "dense (Dense)                (None, 64)                32832     \n",
      "_________________________________________________________________\n",
      "dense_1 (Dense)              (None, 10)                650       \n",
      "=================================================================\n",
      "Total params: 70,762\n",
      "Trainable params: 70,762\n",
      "Non-trainable params: 0\n",
      "_________________________________________________________________\n"
     ]
    }
   ],
   "source": [
    "model.summary()"
   ]
  },
  {
   "cell_type": "code",
   "execution_count": 10,
   "metadata": {},
   "outputs": [],
   "source": [
    "# Reshape the Train Image Array for compatible with CNN\n",
    "train_images = train_images.reshape((60000,28,28,1))\n",
    "\n",
    "# Normalizing the Train Images\n",
    "train_images = train_images.astype('float32')/255\n",
    "\n",
    "# Reshape the Test Image Array for compatible with CNN\n",
    "test_images = test_images.reshape((10000,28,28,1))\n",
    "\n",
    "#Normalizing the test images\n",
    "test_images = test_images.astype('float32')/255"
   ]
  },
  {
   "cell_type": "code",
   "execution_count": 11,
   "metadata": {},
   "outputs": [
    {
     "name": "stdout",
     "output_type": "stream",
     "text": [
      "Epoch 1/5\n",
      "60000/60000 [==============================] - 48s 806us/sample - loss: 0.1722 - acc: 0.9466\n",
      "Epoch 2/5\n",
      "60000/60000 [==============================] - 35s 577us/sample - loss: 0.0473 - acc: 0.9853\n",
      "Epoch 3/5\n",
      "60000/60000 [==============================] - 34s 573us/sample - loss: 0.0335 - acc: 0.9898\n",
      "Epoch 4/5\n",
      "60000/60000 [==============================] - 35s 576us/sample - loss: 0.0259 - acc: 0.9920\n",
      "Epoch 5/5\n",
      "60000/60000 [==============================] - 35s 591us/sample - loss: 0.0201 - acc: 0.9936\n"
     ]
    },
    {
     "data": {
      "text/plain": [
       "<tensorflow.python.keras.callbacks.History at 0x605a7b8>"
      ]
     },
     "execution_count": 11,
     "metadata": {},
     "output_type": "execute_result"
    }
   ],
   "source": [
    "#compiling the CNN model\n",
    "model.compile(optimizer='rmsprop',loss=\"categorical_crossentropy\",metrics=[\"accuracy\"])\n",
    "\n",
    "#fitting the model\n",
    "model.fit(train_images,train_labels,epochs=5,batch_size=64)\n",
    "\n",
    "#epochs(how many times the learning algorithm will work through enrire training dataset)\n",
    "#batch_size(number of training examples utilized in one iteration)"
   ]
  },
  {
   "cell_type": "code",
   "execution_count": 12,
   "metadata": {},
   "outputs": [
    {
     "name": "stdout",
     "output_type": "stream",
     "text": [
      "10000/10000 [==============================] - 7s 728us/sample - loss: 0.0292 - acc: 0.9920\n"
     ]
    }
   ],
   "source": [
    "#Evaluaate the CNN model\n",
    "test_loss,test_accuracy = model.evaluate(test_images,test_labels)"
   ]
  },
  {
   "cell_type": "code",
   "execution_count": 13,
   "metadata": {},
   "outputs": [
    {
     "data": {
      "text/plain": [
       "0.992"
      ]
     },
     "execution_count": 13,
     "metadata": {},
     "output_type": "execute_result"
    }
   ],
   "source": [
    "test_accuracy \n",
    "#perfect"
   ]
  },
  {
   "cell_type": "code",
   "execution_count": null,
   "metadata": {},
   "outputs": [],
   "source": []
  }
 ],
 "metadata": {
  "kernelspec": {
   "display_name": "Python 3",
   "language": "python",
   "name": "python3"
  },
  "language_info": {
   "codemirror_mode": {
    "name": "ipython",
    "version": 3
   },
   "file_extension": ".py",
   "mimetype": "text/x-python",
   "name": "python",
   "nbconvert_exporter": "python",
   "pygments_lexer": "ipython3",
   "version": "3.7.3"
  }
 },
 "nbformat": 4,
 "nbformat_minor": 2
}
